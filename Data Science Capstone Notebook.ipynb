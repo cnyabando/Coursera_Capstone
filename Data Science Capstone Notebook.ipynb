{
    "nbformat_minor": 1, 
    "cells": [
        {
            "source": "# H1 Capstone Project - The Battle of Neighborhoods (Week 1)\n\n\n", 
            "cell_type": "markdown", 
            "metadata": {
                "collapsed": true
            }
        }, 
        {
            "source": "## h2 Memphis BBQ vs Nashville BBQ", 
            "cell_type": "markdown", 
            "metadata": {}
        }, 
        {
            "source": "The purpose of this project is to explore Barbecue options in Memphis vs Nashville, Tennessee. Memphis is known for having great BBQ. There is even an annual competition held in May that attracts teams from all over the world. Is there an opportunity to popularize BBQ in Nashville. Memphis in May has been a great benefit for Memphis and the state if Tennessee. Is there an opportunity to bring a similar event to Nashville in the Fall to maximize the benefits for the state. The assumption if there are as many BBQ restaurants in downtown Nashville as in downtown Memphis, there is a potential for a good start to a BBQ festival/completion in Nashville.", 
            "cell_type": "markdown", 
            "metadata": {}
        }, 
        {
            "source": "### h3 DATA", 
            "cell_type": "markdown", 
            "metadata": {}
        }, 
        {
            "source": "To explore this problem, I will get information about BBQ restaurants in Memphis and Nashville from Foursquare.", 
            "cell_type": "markdown", 
            "metadata": {}
        }
    ], 
    "metadata": {
        "kernelspec": {
            "display_name": "Python 3.6", 
            "name": "python3", 
            "language": "python"
        }, 
        "language_info": {
            "mimetype": "text/x-python", 
            "nbconvert_exporter": "python", 
            "version": "3.6.8", 
            "name": "python", 
            "file_extension": ".py", 
            "pygments_lexer": "ipython3", 
            "codemirror_mode": {
                "version": 3, 
                "name": "ipython"
            }
        }
    }, 
    "nbformat": 4
}